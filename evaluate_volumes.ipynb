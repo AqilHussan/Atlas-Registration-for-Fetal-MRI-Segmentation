{
 "cells": [
  {
   "cell_type": "code",
   "execution_count": 1,
   "id": "392e3591",
   "metadata": {},
   "outputs": [
    {
     "name": "stderr",
     "output_type": "stream",
     "text": [
      "/home/tanvi/.conda/envs/hbpenv/lib/python3.8/site-packages/statsmodels/compat/pandas.py:61: FutureWarning: pandas.Int64Index is deprecated and will be removed from pandas in a future version. Use pandas.Index with the appropriate dtype instead.\n",
      "  from pandas import Int64Index as NumericIndex\n",
      "2022-08-03 20:13:16.999146: I tensorflow/stream_executor/platform/default/dso_loader.cc:49] Successfully opened dynamic library libcudart.so.11.0\n"
     ]
    }
   ],
   "source": [
    "from functools import partial\n",
    "import numpy as np\n",
    "from matplotlib import pyplot as plt\n",
    "import ants\n",
    "import pandas as pd\n",
    "from tqdm import tqdm\n",
    "from affine_data_generators import *\n",
    "import sys\n",
    "sys.path.insert(0,'../pathology_unet/')\n",
    "from metrics import *\n",
    "import os\n",
    "os.environ['VXM_BACKEND'] = 'pytorch'\n",
    "import voxelmorph as vxm \n",
    "from torch.utils.data import DataLoader"
   ]
  },
  {
   "cell_type": "code",
   "execution_count": 3,
   "id": "8d1fffa3",
   "metadata": {},
   "outputs": [],
   "source": [
    "insti1 = 'feta_2.2'\n",
    "insti2 = 'FeTA2022_Data_MedicalUniversityOfVienna_V1.0'\n",
    "type1 = 'Neurotypical'\n",
    "type2 = 'Pathological'\n",
    "rectype1 = 'irtk'\n",
    "rectype2 = 'nmic'"
   ]
  },
  {
   "cell_type": "code",
   "execution_count": 4,
   "id": "4faa8135",
   "metadata": {},
   "outputs": [
    {
     "data": {
      "text/plain": [
       "(31, 33, 49, 7)"
      ]
     },
     "execution_count": 4,
     "metadata": {},
     "output_type": "execute_result"
    }
   ],
   "source": [
    "filenames_normal_1 = get_filenames(insti1,type1,rectype1)\n",
    "filenames_normal_2 = get_filenames(insti2,type1,rectype2)\n",
    "\n",
    "filenames_patho_1 = get_filenames(insti1,type2,rectype1)\n",
    "filenames_patho_2 = get_filenames(insti2,type2,rectype2)\n",
    "\n",
    "len(filenames_normal_1),len(filenames_normal_2),len(filenames_patho_1),len(filenames_patho_2)"
   ]
  },
  {
   "cell_type": "code",
   "execution_count": 19,
   "id": "4d0ebd59",
   "metadata": {},
   "outputs": [],
   "source": [
    "dl_normal_1 = CustomImageDataset(filenames_normal_1[-10:],reference,axis=0)\n",
    "dl_normal_1 = DataLoader(dl_normal_1, batch_size=1, shuffle=False)\n",
    "\n",
    "dl_normal_2 = CustomImageDataset(filenames_normal_2[-10:],reference,axis=1)\n",
    "dl_normal_2 = DataLoader(dl_normal_2, batch_size=1, shuffle=False)\n",
    "\n",
    "dl_patho_1 = CustomImageDataset(filenames_patho_1,reference,axis=0)\n",
    "dl_patho_1 = DataLoader(dl_patho_1, batch_size=1, shuffle=False)\n",
    "\n",
    "dl_patho_2 = CustomImageDataset(filenames_patho_2,reference,axis=1)\n",
    "dl_patho_2 = DataLoader(dl_patho_2, batch_size=1, shuffle=False)"
   ]
  },
  {
   "cell_type": "code",
   "execution_count": 20,
   "id": "8b903b91",
   "metadata": {},
   "outputs": [],
   "source": [
    "def evaluate_ants(data_generator):\n",
    "    df = { 'vols': [],\n",
    "                'Extra-axial CSF': [],\n",
    "                'Gray Matter and developing cortical plate': [],\n",
    "                'White matter and subplate': [],\n",
    "                'Lateral ventricles': [],\n",
    "                'Cerebellum': [],\n",
    "                'Thalamus and putamen': [],\n",
    "                'Brainstem': []\n",
    "        }\n",
    "    dl_iter = iter(data_generator)\n",
    "    for i in tqdm(range(len(data_generator))):\n",
    "\n",
    "        input_vols, filename =  next(dl_iter)\n",
    "        np_seg_fxd = input_vols[3].detach().numpy().squeeze()\n",
    "        np_seg_ants = input_vols[1].detach().numpy().squeeze()\n",
    "\n",
    "        for label in range(1,8):\n",
    "            dice = dice_score(np_seg_fxd,np_seg_ants,label)\n",
    "            jc = jaccard(np_seg_fxd,np_seg_ants,label)\n",
    "            hd = haussdorff_distance(np_seg_fxd, np_seg_ants, label,\n",
    "                               percentile= 95, spacing_mm=[0.5, 0.5, 0.5])\n",
    "\n",
    "            df[struct_list[label]].append([dice,jc,hd])\n",
    "        df['vols'].append(filename[0].split('/')[2])\n",
    "    return pd.DataFrame(df)"
   ]
  },
  {
   "cell_type": "code",
   "execution_count": 21,
   "id": "7c22e277",
   "metadata": {},
   "outputs": [
    {
     "name": "stderr",
     "output_type": "stream",
     "text": [
      "  0%|                                                                                                                                    | 0/7 [00:00<?, ?it/s]/srv/tanvi/voxel_morph/../pathology_unet/metrics.py:499: DeprecationWarning:\n",
      "\n",
      "`np.bool` is a deprecated alias for the builtin `bool`. To silence this warning, use `bool` by itself. Doing this will not modify any behavior and is safe. If you specifically wanted the numpy scalar type, use `np.bool_` here.\n",
      "Deprecated in NumPy 1.20; for more details and guidance: https://numpy.org/devdocs/release/1.20.0-notes.html#deprecations\n",
      "\n",
      "/srv/tanvi/voxel_morph/../pathology_unet/metrics.py:514: DeprecationWarning:\n",
      "\n",
      "`np.bool` is a deprecated alias for the builtin `bool`. To silence this warning, use `bool` by itself. Doing this will not modify any behavior and is safe. If you specifically wanted the numpy scalar type, use `np.bool_` here.\n",
      "Deprecated in NumPy 1.20; for more details and guidance: https://numpy.org/devdocs/release/1.20.0-notes.html#deprecations\n",
      "\n",
      "/srv/tanvi/voxel_morph/../pathology_unet/metrics.py:516: DeprecationWarning:\n",
      "\n",
      "`np.bool` is a deprecated alias for the builtin `bool`. To silence this warning, use `bool` by itself. Doing this will not modify any behavior and is safe. If you specifically wanted the numpy scalar type, use `np.bool_` here.\n",
      "Deprecated in NumPy 1.20; for more details and guidance: https://numpy.org/devdocs/release/1.20.0-notes.html#deprecations\n",
      "\n",
      "/srv/tanvi/voxel_morph/../pathology_unet/metrics.py:531: DeprecationWarning:\n",
      "\n",
      "`np.bool` is a deprecated alias for the builtin `bool`. To silence this warning, use `bool` by itself. Doing this will not modify any behavior and is safe. If you specifically wanted the numpy scalar type, use `np.bool_` here.\n",
      "Deprecated in NumPy 1.20; for more details and guidance: https://numpy.org/devdocs/release/1.20.0-notes.html#deprecations\n",
      "\n",
      "/srv/tanvi/voxel_morph/../pathology_unet/metrics.py:533: DeprecationWarning:\n",
      "\n",
      "`np.bool` is a deprecated alias for the builtin `bool`. To silence this warning, use `bool` by itself. Doing this will not modify any behavior and is safe. If you specifically wanted the numpy scalar type, use `np.bool_` here.\n",
      "Deprecated in NumPy 1.20; for more details and guidance: https://numpy.org/devdocs/release/1.20.0-notes.html#deprecations\n",
      "\n",
      "/srv/tanvi/voxel_morph/../pathology_unet/metrics.py:548: DeprecationWarning:\n",
      "\n",
      "`np.bool` is a deprecated alias for the builtin `bool`. To silence this warning, use `bool` by itself. Doing this will not modify any behavior and is safe. If you specifically wanted the numpy scalar type, use `np.bool_` here.\n",
      "Deprecated in NumPy 1.20; for more details and guidance: https://numpy.org/devdocs/release/1.20.0-notes.html#deprecations\n",
      "\n",
      "/srv/tanvi/voxel_morph/../pathology_unet/metrics.py:550: DeprecationWarning:\n",
      "\n",
      "`np.bool` is a deprecated alias for the builtin `bool`. To silence this warning, use `bool` by itself. Doing this will not modify any behavior and is safe. If you specifically wanted the numpy scalar type, use `np.bool_` here.\n",
      "Deprecated in NumPy 1.20; for more details and guidance: https://numpy.org/devdocs/release/1.20.0-notes.html#deprecations\n",
      "\n",
      "/srv/tanvi/voxel_morph/../pathology_unet/metrics.py:399: DeprecationWarning:\n",
      "\n",
      "Please use `correlate` from the `scipy.ndimage` namespace, the `scipy.ndimage.filters` namespace is deprecated.\n",
      "\n",
      "/srv/tanvi/voxel_morph/../pathology_unet/metrics.py:401: DeprecationWarning:\n",
      "\n",
      "Please use `correlate` from the `scipy.ndimage` namespace, the `scipy.ndimage.filters` namespace is deprecated.\n",
      "\n",
      "/srv/tanvi/voxel_morph/../pathology_unet/metrics.py:412: DeprecationWarning:\n",
      "\n",
      "Please use `distance_transform_edt` from the `scipy.ndimage` namespace, the `scipy.ndimage.morphology` namespace is deprecated.\n",
      "\n",
      "/srv/tanvi/voxel_morph/../pathology_unet/metrics.py:418: DeprecationWarning:\n",
      "\n",
      "Please use `distance_transform_edt` from the `scipy.ndimage` namespace, the `scipy.ndimage.morphology` namespace is deprecated.\n",
      "\n",
      "100%|████████████████████████████████████████████████████████████████████████████████████████████████████████████████████████████| 7/7 [00:21<00:00,  3.14s/it]\n"
     ]
    }
   ],
   "source": [
    "# df_normal_1 = evaluate_ants(dl_normal_1)\n",
    "# df_normal_2 = evaluate_ants(dl_normal_2)\n",
    "# df_patho_1 = evaluate_ants(dl_patho_1)\n",
    "df_patho_2 = evaluate_ants(dl_patho_2)"
   ]
  },
  {
   "cell_type": "code",
   "execution_count": 16,
   "id": "f6876b00",
   "metadata": {},
   "outputs": [],
   "source": [
    "df_normal_1.to_csv('volume_metrics/ants_affine_normal_1.csv',index=False)\n",
    "df_normal_2.to_csv('volume_metrics/ants_affine_normal_2.csv',index=False)\n",
    "df_patho_1.to_csv('volume_metrics/ants_affine_patho_1.csv',index=False)\n",
    "df_patho_2.to_csv('volume_metrics/ants_affine_patho_2.csv',index=False)"
   ]
  },
  {
   "cell_type": "code",
   "execution_count": 20,
   "id": "4db8474d",
   "metadata": {},
   "outputs": [
    {
     "data": {
      "text/plain": [
       "'../feta_2.2/sub-026/anat/sub-026_rec-mial_T2w.nii.gz'"
      ]
     },
     "execution_count": 20,
     "metadata": {},
     "output_type": "execute_result"
    }
   ],
   "source": [
    "reference"
   ]
  },
  {
   "cell_type": "code",
   "execution_count": 10,
   "id": "2316c7ff",
   "metadata": {},
   "outputs": [],
   "source": [
    "reference = '../feta_2.2/sub-026/anat/sub-026_rec-mial_T2w.nii.gz'\n",
    "ants_ref = ants.image_read(reference)\n",
    "ants_ref_seg = ants.image_read(reference.replace('T2w','dseg'))"
   ]
  },
  {
   "cell_type": "code",
   "execution_count": 11,
   "id": "724e524e",
   "metadata": {},
   "outputs": [],
   "source": [
    "ants_ref = ants_ref*(ants_ref_seg!=0)"
   ]
  },
  {
   "cell_type": "code",
   "execution_count": 14,
   "id": "e503cd61",
   "metadata": {},
   "outputs": [
    {
     "data": {
      "image/png": "[encoded data removed]",
      "text/plain": [
       "<Figure size 432x540 with 12 Axes>"
      ]
     },
     "metadata": {
      "needs_background": "light"
     },
     "output_type": "display_data"
    }
   ],
   "source": [
    "ants.plot(ants_ref)"
   ]
  },
  {
   "cell_type": "code",
   "execution_count": 25,
   "id": "5eb9967c",
   "metadata": {},
   "outputs": [],
   "source": [
    "ants_dir = 'syn_reg/'\n",
    "def compute_ants_syn(vol_names):\n",
    "    df_normal = { 'vols': [],\n",
    "                'Extra-axial CSF': [],\n",
    "                'Gray Matter and developing cortical plate': [],\n",
    "                'White matter and subplate': [],\n",
    "                'Lateral ventricles': [],\n",
    "                'Cerebellum': [],\n",
    "                'Thalamus and putamen': [],\n",
    "                'Brainstem': []\n",
    "        }\n",
    "    for filename in tqdm(vol_names):\n",
    "        try:\n",
    "            ants_img = ants.image_read(filename)\n",
    "        except:\n",
    "            filename = filename.replace('irtk','mial')\n",
    "            ants_img = ants.image_read(filename) \n",
    "\n",
    "        ants_seg = ants.image_read(filename.replace('T2w','dseg'))\n",
    "\n",
    "        ants_img = ants_img*(ants_seg!=0)\n",
    "        tfm_path = ants_dir + filename.split('/')[2] + '0GenericAffine.mat'\n",
    "#         if not os.path.exists(tfm_path):\n",
    "        ants_affinereg_tfm = ants.registration(fixed=ants_img,moving=ants_ref,\n",
    "                                               aff_metric='GC',type_of_transform='SyN',\n",
    "                                              outprefix= ants_dir + filename.split('/')[2])\n",
    "\n",
    "        os.remove(ants_affinereg_tfm['fwdtransforms'][0])\n",
    "        os.remove(ants_affinereg_tfm['invtransforms'][-1])\n",
    "\n",
    "        ants_warped = ants.apply_transforms(fixed= ants_seg,\n",
    "                                     moving= ants_ref_seg,\n",
    "                                     transformlist= tfm_path,\n",
    "                                     interpolator= 'nearestNeighbor'\n",
    "                                    )\n",
    "        np_seg_fxd = ants_seg.numpy()\n",
    "        np_seg_ants = ants_warped.numpy()\n",
    "\n",
    "        for label in range(1,8):\n",
    "            dice = dice_score(np_seg_fxd,np_seg_ants,label)\n",
    "            jc = jaccard(np_seg_fxd,np_seg_ants,label)\n",
    "            hd = haussdorff_distance(np_seg_fxd, np_seg_ants, label,\n",
    "                               percentile= 95, spacing_mm=[0.5, 0.5, 0.5])\n",
    "\n",
    "            df_normal[struct_list[label]].append([dice,jc,hd])\n",
    "        df_normal['vols'].append(filename.split('/')[2])\n",
    "    return pd.DataFrame(df_normal)"
   ]
  },
  {
   "cell_type": "code",
   "execution_count": 26,
   "id": "33675e2e",
   "metadata": {},
   "outputs": [
    {
     "name": "stderr",
     "output_type": "stream",
     "text": [
      "  0%|                                                                                                                                   | 0/10 [00:00<?, ?it/s]/srv/tanvi/voxel_morph/../pathology_unet/metrics.py:499: DeprecationWarning:\n",
      "\n",
      "`np.bool` is a deprecated alias for the builtin `bool`. To silence this warning, use `bool` by itself. Doing this will not modify any behavior and is safe. If you specifically wanted the numpy scalar type, use `np.bool_` here.\n",
      "Deprecated in NumPy 1.20; for more details and guidance: https://numpy.org/devdocs/release/1.20.0-notes.html#deprecations\n",
      "\n",
      "/srv/tanvi/voxel_morph/../pathology_unet/metrics.py:514: DeprecationWarning:\n",
      "\n",
      "`np.bool` is a deprecated alias for the builtin `bool`. To silence this warning, use `bool` by itself. Doing this will not modify any behavior and is safe. If you specifically wanted the numpy scalar type, use `np.bool_` here.\n",
      "Deprecated in NumPy 1.20; for more details and guidance: https://numpy.org/devdocs/release/1.20.0-notes.html#deprecations\n",
      "\n",
      "/srv/tanvi/voxel_morph/../pathology_unet/metrics.py:516: DeprecationWarning:\n",
      "\n",
      "`np.bool` is a deprecated alias for the builtin `bool`. To silence this warning, use `bool` by itself. Doing this will not modify any behavior and is safe. If you specifically wanted the numpy scalar type, use `np.bool_` here.\n",
      "Deprecated in NumPy 1.20; for more details and guidance: https://numpy.org/devdocs/release/1.20.0-notes.html#deprecations\n",
      "\n",
      "/srv/tanvi/voxel_morph/../pathology_unet/metrics.py:531: DeprecationWarning:\n",
      "\n",
      "`np.bool` is a deprecated alias for the builtin `bool`. To silence this warning, use `bool` by itself. Doing this will not modify any behavior and is safe. If you specifically wanted the numpy scalar type, use `np.bool_` here.\n",
      "Deprecated in NumPy 1.20; for more details and guidance: https://numpy.org/devdocs/release/1.20.0-notes.html#deprecations\n",
      "\n",
      "/srv/tanvi/voxel_morph/../pathology_unet/metrics.py:533: DeprecationWarning:\n",
      "\n",
      "`np.bool` is a deprecated alias for the builtin `bool`. To silence this warning, use `bool` by itself. Doing this will not modify any behavior and is safe. If you specifically wanted the numpy scalar type, use `np.bool_` here.\n",
      "Deprecated in NumPy 1.20; for more details and guidance: https://numpy.org/devdocs/release/1.20.0-notes.html#deprecations\n",
      "\n",
      "/srv/tanvi/voxel_morph/../pathology_unet/metrics.py:548: DeprecationWarning:\n",
      "\n",
      "`np.bool` is a deprecated alias for the builtin `bool`. To silence this warning, use `bool` by itself. Doing this will not modify any behavior and is safe. If you specifically wanted the numpy scalar type, use `np.bool_` here.\n",
      "Deprecated in NumPy 1.20; for more details and guidance: https://numpy.org/devdocs/release/1.20.0-notes.html#deprecations\n",
      "\n",
      "/srv/tanvi/voxel_morph/../pathology_unet/metrics.py:550: DeprecationWarning:\n",
      "\n",
      "`np.bool` is a deprecated alias for the builtin `bool`. To silence this warning, use `bool` by itself. Doing this will not modify any behavior and is safe. If you specifically wanted the numpy scalar type, use `np.bool_` here.\n",
      "Deprecated in NumPy 1.20; for more details and guidance: https://numpy.org/devdocs/release/1.20.0-notes.html#deprecations\n",
      "\n",
      "/srv/tanvi/voxel_morph/../pathology_unet/metrics.py:399: DeprecationWarning:\n",
      "\n",
      "Please use `correlate` from the `scipy.ndimage` namespace, the `scipy.ndimage.filters` namespace is deprecated.\n",
      "\n",
      "/srv/tanvi/voxel_morph/../pathology_unet/metrics.py:401: DeprecationWarning:\n",
      "\n",
      "Please use `correlate` from the `scipy.ndimage` namespace, the `scipy.ndimage.filters` namespace is deprecated.\n",
      "\n",
      "/srv/tanvi/voxel_morph/../pathology_unet/metrics.py:412: DeprecationWarning:\n",
      "\n",
      "Please use `distance_transform_edt` from the `scipy.ndimage` namespace, the `scipy.ndimage.morphology` namespace is deprecated.\n",
      "\n",
      "/srv/tanvi/voxel_morph/../pathology_unet/metrics.py:418: DeprecationWarning:\n",
      "\n",
      "Please use `distance_transform_edt` from the `scipy.ndimage` namespace, the `scipy.ndimage.morphology` namespace is deprecated.\n",
      "\n",
      "100%|██████████████████████████████████████████████████████████████████████████████████████████████████████████████████████████| 10/10 [14:08<00:00, 84.85s/it]\n",
      "100%|██████████████████████████████████████████████████████████████████████████████████████████████████████████████████████████| 10/10 [11:39<00:00, 69.99s/it]\n",
      "100%|████████████████████████████████████████████████████████████████████████████████████████████████████████████████████████| 49/49 [1:12:57<00:00, 89.34s/it]\n",
      "100%|████████████████████████████████████████████████████████████████████████████████████████████████████████████████████████████| 7/7 [10:49<00:00, 92.80s/it]\n"
     ]
    }
   ],
   "source": [
    "df_normal_1 = compute_ants_syn(filenames_normal_1[-10:])\n",
    "df_normal_2 = compute_ants_syn(filenames_normal_2[-10:])\n",
    "df_patho_1 = compute_ants_syn(filenames_patho_1)\n",
    "df_patho_2 = compute_ants_syn(filenames_patho_2)"
   ]
  },
  {
   "cell_type": "code",
   "execution_count": 27,
   "id": "4ce5d5ac",
   "metadata": {},
   "outputs": [],
   "source": [
    "df_normal_1.to_csv('volume_metrics/ants_syn_normal_1.csv',index=False)\n",
    "df_normal_2.to_csv('volume_metrics/ants_syn_normal_2.csv',index=False)\n",
    "df_patho_1.to_csv('volume_metrics/ants_syn_patho_1.csv',index=False)\n",
    "df_patho_2.to_csv('volume_metrics/ants_syn_patho_2.csv',index=False)"
   ]
  },
  {
   "cell_type": "code",
   "execution_count": null,
   "id": "c14015ff",
   "metadata": {},
   "outputs": [],
   "source": []
  },
  {
   "cell_type": "code",
   "execution_count": 28,
   "id": "0ddc7293",
   "metadata": {},
   "outputs": [],
   "source": [
    "ants_dir = 'affine_reg/'\n",
    "\n",
    "def compute_ants_affine(vol_names,institute):\n",
    "    df_normal = { 'vols': [],\n",
    "                'Extra-axial CSF': [],\n",
    "                'Gray Matter and developing cortical plate': [],\n",
    "                'White matter and subplate': [],\n",
    "                'Lateral ventricles': [],\n",
    "                'Cerebellum': [],\n",
    "                'Thalamus and putamen': [],\n",
    "                'Brainstem': []\n",
    "        }\n",
    "    for filename in tqdm(vol_names):\n",
    "        try:\n",
    "            ants_img = ants.image_read(filename)\n",
    "        except:\n",
    "            filename = filename.replace('irtk','mial')\n",
    "            ants_img = ants.image_read(filename) \n",
    "\n",
    "        ants_seg = ants.image_read(filename.replace('T2w','dseg'))\n",
    "\n",
    "        ants_img = ants_img*(ants_seg!=0)\n",
    "        tfm_path = ants_dir + filename.split('/')[2] + '0GenericAffine.mat'\n",
    "#         if not os.path.exists(tfm_path):\n",
    "        ants_affinereg_tfm = ants.registration(fixed=ants_img,moving=ants_ref,\n",
    "                                           aff_metric='GC',type_of_transform='Affine',\n",
    "                                          outprefix= ants_dir + filename.split('/')[2])\n",
    "\n",
    "        ants_warped = ants.apply_transforms(fixed= ants_seg,\n",
    "                                     moving= ants_ref_seg,\n",
    "                                     transformlist= tfm_path,\n",
    "                                     interpolator= 'nearestNeighbor'\n",
    "                                    )\n",
    "        np_seg_fxd = ants_seg.numpy()\n",
    "        np_seg_ants = ants_warped.numpy()\n",
    "        \n",
    "        if institute ==1:\n",
    "            np_seg_fxd = np_seg_fxd[50:114,:,:]\n",
    "            np_seg_ants = np_seg_ants[50:114,:,:]\n",
    "        if institute == 2:\n",
    "            np_seg_fxd = np_seg_fxd[:,96:160,:]\n",
    "            np_seg_ants = np_seg_ants[:,96:160,:]\n",
    "            \n",
    "        for label in range(1,8):\n",
    "            dice = dice_score(np_seg_fxd,np_seg_ants,label)\n",
    "            jc = jaccard(np_seg_fxd,np_seg_ants,label)\n",
    "            hd = haussdorff_distance(np_seg_fxd, np_seg_ants, label,\n",
    "                               percentile= 95, spacing_mm=[0.5, 0.5, 0.5])\n",
    "\n",
    "            df_normal[struct_list[label]].append([dice,jc,hd])\n",
    "        df_normal['vols'].append(filename.split('/')[2])\n",
    "    return pd.DataFrame(df_normal)"
   ]
  },
  {
   "cell_type": "code",
   "execution_count": 29,
   "id": "06352f86",
   "metadata": {},
   "outputs": [
    {
     "name": "stderr",
     "output_type": "stream",
     "text": [
      "100%|██████████████████████████████████████████████████████████████████████████████████████████████████████████████████████████| 21/21 [05:38<00:00, 16.14s/it]\n",
      "100%|██████████████████████████████████████████████████████████████████████████████████████████████████████████████████████████| 23/23 [05:40<00:00, 14.80s/it]\n"
     ]
    }
   ],
   "source": [
    "df_normal_1 = compute_ants_affine(filenames_normal_1[:-10],1)\n",
    "df_normal_2 = compute_ants_affine(filenames_normal_2[:-10],2)\n",
    "# df_patho_1 = compute_ants_affine(filenames_patho_1,1)\n",
    "# df_patho_2 = compute_ants_affine(filenames_patho_2,2)"
   ]
  },
  {
   "cell_type": "code",
   "execution_count": 30,
   "id": "2654053f",
   "metadata": {},
   "outputs": [],
   "source": [
    "df_normal_1.to_csv('volume_metrics/ants_affine_normal_1Training.csv',index=False)\n",
    "df_normal_2.to_csv('volume_metrics/ants_affine_normal_2Training.csv',index=False)"
   ]
  },
  {
   "cell_type": "code",
   "execution_count": 15,
   "id": "fe6b80ee",
   "metadata": {},
   "outputs": [],
   "source": [
    "input_vols, path = next(iter(dl_patho_2))"
   ]
  },
  {
   "cell_type": "code",
   "execution_count": 17,
   "id": "9d09efd5",
   "metadata": {},
   "outputs": [],
   "source": [
    "np_seg_fxd = input_vols[3].detach().numpy().squeeze(1)\n",
    "np_seg_ants = input_vols[1].detach().numpy().squeeze(1)"
   ]
  },
  {
   "cell_type": "code",
   "execution_count": 25,
   "id": "56c6919b",
   "metadata": {},
   "outputs": [
    {
     "data": {
      "application/vnd.jupyter.widget-view+json": {
       "model_id": "50e67e4d29374e11961cf4582beb408d",
       "version_major": 2,
       "version_minor": 0
      },
      "text/plain": [
       "interactive(children=(IntSlider(value=0, description='batch_id', max=1), IntSlider(value=32, description='x', …"
      ]
     },
     "metadata": {},
     "output_type": "display_data"
    }
   ],
   "source": [
    "interact(visualise_volumes, batch_id = (0,1),x=(0,64),  alpha=(0.0,1.0,0.05), \n",
    "         fixed = fixed((np_seg_fxd==1).astype(np.uint8)), moving=fixed((np_seg_ants==1).astype(np.uint8)));"
   ]
  },
  {
   "cell_type": "code",
   "execution_count": 23,
   "id": "a62c2895",
   "metadata": {},
   "outputs": [
    {
     "data": {
      "text/plain": [
       "1.0"
      ]
     },
     "execution_count": 23,
     "metadata": {},
     "output_type": "execute_result"
    }
   ],
   "source": [
    "dice_score(np_seg_fxd,np_seg_ants,5)"
   ]
  },
  {
   "cell_type": "code",
   "execution_count": 30,
   "id": "d2fea466",
   "metadata": {},
   "outputs": [],
   "source": [
    "path = path[0]"
   ]
  },
  {
   "cell_type": "code",
   "execution_count": 32,
   "id": "e1d9fe7f",
   "metadata": {},
   "outputs": [],
   "source": [
    "ants_img = ants.image_read(path) \n",
    "ants_seg = ants.image_read(path.replace('T2w','dseg'))\n",
    "ants_img = ants_img*(ants_seg!=0)\n",
    "ants_affinereg_tfm = ants.registration(fixed=ants_img,moving=new_ants,\n",
    "                                           aff_metric='GC',type_of_transform='Affine',\n",
    "                                          outprefix= 'trial')"
   ]
  },
  {
   "cell_type": "code",
   "execution_count": 33,
   "id": "4164ae37",
   "metadata": {},
   "outputs": [
    {
     "data": {
      "image/png": "[encoded data removed]",
      "text/plain": [
       "<Figure size 432x540 with 12 Axes>"
      ]
     },
     "metadata": {
      "needs_background": "light"
     },
     "output_type": "display_data"
    }
   ],
   "source": [
    "ants.plot(ants_img)"
   ]
  },
  {
   "cell_type": "code",
   "execution_count": 35,
   "id": "d114198e",
   "metadata": {},
   "outputs": [
    {
     "data": {
      "image/png": "[encoded data removed]",
      "text/plain": [
       "<Figure size 432x540 with 12 Axes>"
      ]
     },
     "metadata": {
      "needs_background": "light"
     },
     "output_type": "display_data"
    }
   ],
   "source": [
    "ants.plot(ants_warped)"
   ]
  },
  {
   "cell_type": "code",
   "execution_count": 34,
   "id": "3b03908f",
   "metadata": {},
   "outputs": [],
   "source": [
    "tfm_path = 'trial0GenericAffine.mat'\n",
    "ants_warped = ants.apply_transforms(fixed= ants_seg,\n",
    "                             moving= ants_ref_seg,\n",
    "                             transformlist= tfm_path,\n",
    "                             interpolator= 'nearestNeighbor'\n",
    "                            )"
   ]
  },
  {
   "cell_type": "code",
   "execution_count": 45,
   "id": "d294e3ae",
   "metadata": {},
   "outputs": [
    {
     "name": "stderr",
     "output_type": "stream",
     "text": [
      "/srv/tanvi/voxel_morph/../pathology_unet/metrics.py:499: DeprecationWarning:\n",
      "\n",
      "`np.bool` is a deprecated alias for the builtin `bool`. To silence this warning, use `bool` by itself. Doing this will not modify any behavior and is safe. If you specifically wanted the numpy scalar type, use `np.bool_` here.\n",
      "Deprecated in NumPy 1.20; for more details and guidance: https://numpy.org/devdocs/release/1.20.0-notes.html#deprecations\n",
      "\n",
      "/srv/tanvi/voxel_morph/../pathology_unet/metrics.py:514: DeprecationWarning:\n",
      "\n",
      "`np.bool` is a deprecated alias for the builtin `bool`. To silence this warning, use `bool` by itself. Doing this will not modify any behavior and is safe. If you specifically wanted the numpy scalar type, use `np.bool_` here.\n",
      "Deprecated in NumPy 1.20; for more details and guidance: https://numpy.org/devdocs/release/1.20.0-notes.html#deprecations\n",
      "\n",
      "/srv/tanvi/voxel_morph/../pathology_unet/metrics.py:516: DeprecationWarning:\n",
      "\n",
      "`np.bool` is a deprecated alias for the builtin `bool`. To silence this warning, use `bool` by itself. Doing this will not modify any behavior and is safe. If you specifically wanted the numpy scalar type, use `np.bool_` here.\n",
      "Deprecated in NumPy 1.20; for more details and guidance: https://numpy.org/devdocs/release/1.20.0-notes.html#deprecations\n",
      "\n",
      "/srv/tanvi/voxel_morph/../pathology_unet/metrics.py:531: DeprecationWarning:\n",
      "\n",
      "`np.bool` is a deprecated alias for the builtin `bool`. To silence this warning, use `bool` by itself. Doing this will not modify any behavior and is safe. If you specifically wanted the numpy scalar type, use `np.bool_` here.\n",
      "Deprecated in NumPy 1.20; for more details and guidance: https://numpy.org/devdocs/release/1.20.0-notes.html#deprecations\n",
      "\n",
      "/srv/tanvi/voxel_morph/../pathology_unet/metrics.py:533: DeprecationWarning:\n",
      "\n",
      "`np.bool` is a deprecated alias for the builtin `bool`. To silence this warning, use `bool` by itself. Doing this will not modify any behavior and is safe. If you specifically wanted the numpy scalar type, use `np.bool_` here.\n",
      "Deprecated in NumPy 1.20; for more details and guidance: https://numpy.org/devdocs/release/1.20.0-notes.html#deprecations\n",
      "\n",
      "/srv/tanvi/voxel_morph/../pathology_unet/metrics.py:548: DeprecationWarning:\n",
      "\n",
      "`np.bool` is a deprecated alias for the builtin `bool`. To silence this warning, use `bool` by itself. Doing this will not modify any behavior and is safe. If you specifically wanted the numpy scalar type, use `np.bool_` here.\n",
      "Deprecated in NumPy 1.20; for more details and guidance: https://numpy.org/devdocs/release/1.20.0-notes.html#deprecations\n",
      "\n",
      "/srv/tanvi/voxel_morph/../pathology_unet/metrics.py:550: DeprecationWarning:\n",
      "\n",
      "`np.bool` is a deprecated alias for the builtin `bool`. To silence this warning, use `bool` by itself. Doing this will not modify any behavior and is safe. If you specifically wanted the numpy scalar type, use `np.bool_` here.\n",
      "Deprecated in NumPy 1.20; for more details and guidance: https://numpy.org/devdocs/release/1.20.0-notes.html#deprecations\n",
      "\n"
     ]
    },
    {
     "data": {
      "text/plain": [
       "0.07490396927016646"
      ]
     },
     "execution_count": 45,
     "metadata": {},
     "output_type": "execute_result"
    }
   ],
   "source": [
    "npseg = ants_seg.numpy()[:,96:160,:]\n",
    "npaw = ants_warped.numpy()[:,96:160,:]\n",
    "dice_score(npseg,npaw,5)"
   ]
  },
  {
   "cell_type": "code",
   "execution_count": 44,
   "id": "9949d17a",
   "metadata": {},
   "outputs": [
    {
     "data": {
      "text/plain": [
       "array([0., 1., 2., 3., 4., 5., 6., 7.], dtype=float32)"
      ]
     },
     "execution_count": 44,
     "metadata": {},
     "output_type": "execute_result"
    }
   ],
   "source": [
    "np.unique(npaw)"
   ]
  },
  {
   "cell_type": "code",
   "execution_count": 55,
   "id": "5f4d112c",
   "metadata": {},
   "outputs": [
    {
     "data": {
      "text/plain": [
       "0.1930988719309887"
      ]
     },
     "execution_count": 55,
     "metadata": {},
     "output_type": "execute_result"
    }
   ],
   "source": [
    "dice_score(npseg,npaw,7)"
   ]
  },
  {
   "cell_type": "code",
   "execution_count": 47,
   "id": "705440a0",
   "metadata": {},
   "outputs": [
    {
     "data": {
      "text/plain": [
       "(1, 256, 64, 256)"
      ]
     },
     "execution_count": 47,
     "metadata": {},
     "output_type": "execute_result"
    }
   ],
   "source": [
    "npseg[np.newaxis,...].shape"
   ]
  },
  {
   "cell_type": "code",
   "execution_count": 48,
   "id": "67163175",
   "metadata": {},
   "outputs": [
    {
     "data": {
      "application/vnd.jupyter.widget-view+json": {
       "model_id": "",
       "version_major": 2,
       "version_minor": 0
      },
      "text/plain": [
       "interactive(children=(IntSlider(value=0, description='batch_id', max=1), IntSlider(value=32, description='x', …"
      ]
     },
     "metadata": {},
     "output_type": "display_data"
    }
   ],
   "source": [
    "interact(visualise_volumes, batch_id = (0,1),x=(0,64),  alpha=(0.0,1.0,0.05), \n",
    "         fixed = fixed((npseg[np.newaxis,...]).astype(np.uint8)), moving=fixed((npaw[np.newaxis,...]).astype(np.uint8)));"
   ]
  },
  {
   "cell_type": "code",
   "execution_count": null,
   "id": "b030d391",
   "metadata": {},
   "outputs": [],
   "source": []
  }
 ],
 "metadata": {
  "kernelspec": {
   "display_name": "Python 3 (ipykernel)",
   "language": "python",
   "name": "python3"
  },
  "language_info": {
   "codemirror_mode": {
    "name": "ipython",
    "version": 3
   },
   "file_extension": ".py",
   "mimetype": "text/x-python",
   "name": "python",
   "nbconvert_exporter": "python",
   "pygments_lexer": "ipython3",
   "version": "3.8.12"
  }
 },
 "nbformat": 4,
 "nbformat_minor": 5
}
